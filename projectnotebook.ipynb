{
 "cells": [
  {
   "cell_type": "code",
   "execution_count": 2,
   "metadata": {},
   "outputs": [
    {
     "name": "stderr",
     "output_type": "stream",
     "text": [
      "WARNING: No IPv4 address found on anpi0 !\n",
      "WARNING: No IPv4 address found on anpi1 !\n",
      "WARNING: more No IPv4 address found on en3 !\n"
     ]
    }
   ],
   "source": [
    "from scapy.all import sniff, IP\n",
    "import pandas as pd"
   ]
  },
  {
   "cell_type": "code",
   "execution_count": 3,
   "metadata": {},
   "outputs": [
    {
     "name": "stdout",
     "output_type": "stream",
     "text": [
      "Starting packet sniffing on en0... (Press CTRL+C to stop)\n",
      "Saved captured packets to captured_packets.csv\n"
     ]
    }
   ],
   "source": [
    "# Replace 'en0' with the interface you identified using ifconfig\n",
    "INTERFACE = 'en0'\n",
    "\n",
    "packets_data = []  # List to store packet info\n",
    "\n",
    "def packet_callback(packet):\n",
    "    \"\"\"Callback function to process each packet\"\"\"\n",
    "    if IP in packet:  # Check if it's an IP packet\n",
    "        packet_info = {\n",
    "            'timestamp': packet.time,\n",
    "            'source_ip': packet[IP].src,\n",
    "            'destination_ip': packet[IP].dst,\n",
    "            'protocol': packet.sprintf(\"%IP.proto%\"),\n",
    "            'length': len(packet)\n",
    "        }\n",
    "        packets_data.append(packet_info)\n",
    "\n",
    "def start_sniffing(interface=INTERFACE, packet_count=100):\n",
    "    \"\"\"Start packet sniffing on the specified interface\"\"\"\n",
    "    print(f\"Starting packet sniffing on {interface}... (Press CTRL+C to stop)\")\n",
    "    sniff(iface=interface, prn=packet_callback, count=packet_count)\n",
    "\n",
    "def save_packets_to_csv(file_name='captured_packets.csv'):\n",
    "    \"\"\"Save captured packets to a CSV file\"\"\"\n",
    "    df_packets = pd.DataFrame(packets_data)\n",
    "    df_packets.to_csv(file_name, index=False)\n",
    "    print(f\"Saved captured packets to {file_name}\")\n",
    "\n",
    "if __name__ == \"__main__\":\n",
    "    start_sniffing()\n",
    "    save_packets_to_csv()"
   ]
  },
  {
   "cell_type": "code",
   "execution_count": 4,
   "metadata": {},
   "outputs": [
    {
     "name": "stdout",
     "output_type": "stream",
     "text": [
      "      timestamp     source_ip destination_ip protocol  length\n",
      "0  1.712589e+09  20.189.173.8   192.168.1.79      tcp     161\n",
      "1  1.712589e+09  192.168.1.79   20.189.173.8      tcp      66\n",
      "2  1.712589e+09  192.168.1.79   20.189.173.8      tcp     101\n",
      "3  1.712589e+09  20.189.173.8   192.168.1.79      tcp      66\n",
      "4  1.712589e+09  192.168.1.79   20.44.10.123      tcp      78\n",
      "<class 'pandas.core.frame.DataFrame'>\n",
      "RangeIndex: 100 entries, 0 to 99\n",
      "Data columns (total 5 columns):\n",
      " #   Column          Non-Null Count  Dtype  \n",
      "---  ------          --------------  -----  \n",
      " 0   timestamp       100 non-null    float64\n",
      " 1   source_ip       100 non-null    object \n",
      " 2   destination_ip  100 non-null    object \n",
      " 3   protocol        100 non-null    object \n",
      " 4   length          100 non-null    int64  \n",
      "dtypes: float64(1), int64(1), object(3)\n",
      "memory usage: 4.0+ KB\n",
      "None\n",
      "          timestamp       length\n",
      "count  1.000000e+02   100.000000\n",
      "mean   1.712589e+09   732.230000\n",
      "std    4.421200e-01   683.296848\n",
      "min    1.712589e+09    66.000000\n",
      "25%    1.712589e+09    66.000000\n",
      "50%    1.712589e+09   306.500000\n",
      "75%    1.712589e+09  1494.000000\n",
      "max    1.712589e+09  1514.000000\n",
      "timestamp         0\n",
      "source_ip         0\n",
      "destination_ip    0\n",
      "protocol          0\n",
      "length            0\n",
      "dtype: int64\n",
      "protocol\n",
      "tcp    94\n",
      "udp     4\n",
      "Name: count, dtype: int64\n"
     ]
    },
    {
     "data": {
      "image/png": "[encoded data removed]",
      "text/plain": [
       "<Figure size 640x480 with 1 Axes>"
      ]
     },
     "metadata": {},
     "output_type": "display_data"
    }
   ],
   "source": [
    "# Load the dataset\n",
    "df = pd.read_csv('captured_packets.csv')\n",
    "\n",
    "# Display the first few rows of the dataset\n",
    "print(df.head())\n",
    "\n",
    "# Get a concise summary of the DataFrame\n",
    "print(df.info())\n",
    "\n",
    "# Basic statistics for numerical columns\n",
    "print(df.describe())\n",
    "\n",
    "# Check for missing values\n",
    "print(df.isnull().sum())\n",
    "\n",
    "# Remove duplicate rows\n",
    "df = df.drop_duplicates()\n",
    "\n",
    "# Histogram of packet lengths\n",
    "df['length'].hist(bins=50)\n",
    "\n",
    "# Count of packets by protocol\n",
    "print(df['protocol'].value_counts())\n",
    "\n",
    "# Boxplot for packet length can help identify outliers\n",
    "df.boxplot(column=['length'])\n",
    "\n",
    "import pandas as pd\n",
    "\n",
    "# Assuming 'timestamp' is in UNIX time format\n",
    "df['timestamp'] = pd.to_datetime(df['timestamp'], unit='s')\n",
    "\n",
    "# Extract time-based features\n",
    "df['hour'] = df['timestamp'].dt.hour\n",
    "df['day_of_week'] = df['timestamp'].dt.dayofweek  # Monday=0, Sunday=6\n",
    "\n",
    "# Optionally, you can create a feature for the time of day (morning, afternoon, evening)\n",
    "df['time_of_day'] = pd.cut(df['hour'], \n",
    "                           bins=[0, 6, 12, 18, 24], \n",
    "                           include_lowest=True, \n",
    "                           labels=['Night', 'Morning', 'Afternoon', 'Evening'])"
   ]
  },
  {
   "cell_type": "code",
   "execution_count": 5,
   "metadata": {},
   "outputs": [],
   "source": [
    "# Function to check if an IP address is private\n",
    "def is_private_ip(ip):\n",
    "    if ip.startswith('10.') or ip.startswith('192.168.') or ip.startswith('172.'):\n",
    "        return 'Private'\n",
    "    else:\n",
    "        return 'Public'\n",
    "\n",
    "# Apply the function to source and destination IP addresses\n",
    "df['source_ip_type'] = df['source_ip'].apply(is_private_ip)\n",
    "df['destination_ip_type'] = df['destination_ip'].apply(is_private_ip)\n",
    "\n",
    "# Create a unique identifier for each flow based on IP addresses\n",
    "df['flow_id'] = df.apply(lambda row: '_'.join(sorted([row['source_ip'], row['destination_ip']])), axis=1)\n",
    "\n",
    "# Count packets in each flow\n",
    "df['flow_packet_count'] = df.groupby('flow_id')['timestamp'].transform('count')\n",
    "\n",
    "# Average packet size in each flow\n",
    "df['flow_avg_packet_size'] = df.groupby('flow_id')['length'].transform('mean')"
   ]
  },
  {
   "cell_type": "code",
   "execution_count": 1,
   "metadata": {},
   "outputs": [
    {
     "ename": "NameError",
     "evalue": "name 'df' is not defined",
     "output_type": "error",
     "traceback": [
      "\u001b[0;31m---------------------------------------------------------------------------\u001b[0m",
      "\u001b[0;31mNameError\u001b[0m                                 Traceback (most recent call last)",
      "Cell \u001b[0;32mIn[1], line 6\u001b[0m\n\u001b[1;32m      3\u001b[0m \u001b[38;5;28;01mfrom\u001b[39;00m \u001b[38;5;21;01msklearn\u001b[39;00m\u001b[38;5;21;01m.\u001b[39;00m\u001b[38;5;21;01mmetrics\u001b[39;00m \u001b[38;5;28;01mimport\u001b[39;00m classification_report\n\u001b[1;32m      5\u001b[0m \u001b[38;5;66;03m# Assuming df is your DataFrame and it has been preprocessed\u001b[39;00m\n\u001b[0;32m----> 6\u001b[0m X \u001b[38;5;241m=\u001b[39m df\u001b[38;5;241m.\u001b[39mdrop([\u001b[38;5;124m'\u001b[39m\u001b[38;5;124mtarget_column\u001b[39m\u001b[38;5;124m'\u001b[39m], axis\u001b[38;5;241m=\u001b[39m\u001b[38;5;241m1\u001b[39m)  \u001b[38;5;66;03m# Replace 'target_column' with your actual target column name\u001b[39;00m\n\u001b[1;32m      7\u001b[0m y \u001b[38;5;241m=\u001b[39m df[\u001b[38;5;124m'\u001b[39m\u001b[38;5;124mtarget_column\u001b[39m\u001b[38;5;124m'\u001b[39m]\n\u001b[1;32m      9\u001b[0m \u001b[38;5;66;03m# Split the data into training and testing sets\u001b[39;00m\n",
      "\u001b[0;31mNameError\u001b[0m: name 'df' is not defined"
     ]
    }
   ],
   "source": [
    "from sklearn.model_selection import train_test_split\n",
    "from sklearn.ensemble import RandomForestClassifier\n",
    "from sklearn.metrics import classification_report\n",
    "\n",
    "# Assuming df is your DataFrame and it has been preprocessed\n",
    "X = df.drop(['target_column'], axis=1)  # Replace 'target_column' with your actual target column name\n",
    "y = df['target_column']\n",
    "\n",
    "# Split the data into training and testing sets\n",
    "X_train, X_test, y_train, y_test = train_test_split(X, y, test_size=0.3, random_state=42)\n",
    "\n",
    "# Initialize and train the Random Forest Classifier\n",
    "clf = RandomForestClassifier(n_estimators=100, random_state=42)\n",
    "clf.fit(X_train, y_train)\n",
    "\n",
    "# Predictions\n",
    "y_pred = clf.predict(X_test)\n",
    "\n",
    "# Evaluation\n",
    "print(classification_report(y_test, y_pred))\n",
    "\n",
    "from sklearn.model_selection import train_test_split\n",
    "\n",
    "# Assuming X (features) and y (target) are already defined\n",
    "X_train, X_test, y_train, y_test = train_test_split(X, y, test_size=0.3, random_state=42)\n",
    "\n",
    "from sklearn.ensemble import RandomForestClassifier\n",
    "\n",
    "model = RandomForestClassifier(random_state=42)\n",
    "model.fit(X_train, y_train)\n",
    "\n",
    "y_pred = model.predict(X_train)"
   ]
  },
  {
   "cell_type": "code",
   "execution_count": null,
   "metadata": {},
   "outputs": [],
   "source": [
    "from sklearn.metrics import accuracy_score, precision_score, recall_score, f1_score\n",
    "\n",
    "print(\"Accuracy:\", accuracy_score(y_test, y_pred))\n",
    "print(\"Precision:\", precision_score(y_test, y_pred, average='macro'))\n",
    "print(\"Recall:\", recall_score(y_test, y_pred, average='macro'))\n",
    "print(\"F1 Score:\", f1_score(y_test, y_pred, average='macro'))\n",
    "\n",
    "from sklearn.model_selection import GridSearchCV\n",
    "\n",
    "param_grid = {\n",
    "    'n_estimators': [100, 200, 300],\n",
    "    'max_features': ['auto', 'sqrt', 'log2'],\n",
    "    'max_depth': [4, 5, 6, 7, 8],\n",
    "    'criterion': ['gini', 'entropy']\n",
    "}\n",
    "\n",
    "CV_rfc = GridSearchCV(estimator=model, param_grid=param_grid, cv=5)\n",
    "CV_rfc.fit(X_train, y_train)\n",
    "\n",
    "from sklearn.model_selection import cross_val_score\n",
    "\n",
    "scores = cross_val_score(model, X, y, cv=5, scoring='accuracy')\n",
    "print(\"Cross-Validated Accuracy:\", scores.mean())"
   ]
  }
 ],
 "metadata": {
  "kernelspec": {
   "display_name": "base",
   "language": "python",
   "name": "python3"
  },
  "language_info": {
   "codemirror_mode": {
    "name": "ipython",
    "version": 3
   },
   "file_extension": ".py",
   "mimetype": "text/x-python",
   "name": "python",
   "nbconvert_exporter": "python",
   "pygments_lexer": "ipython3",
   "version": "3.11.7"
  }
 },
 "nbformat": 4,
 "nbformat_minor": 2
}
